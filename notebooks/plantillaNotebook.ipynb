{
 "cells": [
  {
   "cell_type": "markdown",
   "id": "87b30adb",
   "metadata": {},
   "source": [
    "# Plantilla Notebook"
   ]
  },
  {
   "cell_type": "markdown",
   "id": "9cceb307",
   "metadata": {},
   "source": [
    "Este cuaderno se rellenará con contenidos de VS Code y Python."
   ]
  },
  {
   "cell_type": "code",
   "execution_count": null,
   "id": "5c9a9d29",
   "metadata": {},
   "outputs": [],
   "source": [
    "print(\"Hola Mundo\")"
   ]
  },
  {
   "cell_type": "code",
   "execution_count": null,
   "id": "10bfba71",
   "metadata": {},
   "outputs": [],
   "source": [
    "from nombre_proyecto.utils.distancias import manhattan, euclidea\n",
    "from nombre_proyecto.clases.hospital import Hospital\n",
    "from nombre_proyecto.clases.paciente import Paciente\n",
    "\n",
    "print(\"manhattan((0,0),(3,4)) =\", manhattan((0,0),(3,4)))\n",
    "print(\"euclidea((0,0),(3,4))  =\", round(euclidea((0,0),(3,4)), 3))\n",
    "\n",
    "h = Hospital(\"Hospital Universitario\")\n",
    "h.ingresar(Paciente(1, \"Ana\", 2, \"Revisión\"))\n",
    "h.ingresar(Paciente(2, \"Luis\", 1, \"Trauma\"))\n",
    "print(\"Pacientes en cola:\", len(h))\n",
    "atendido = h.siguiente()\n",
    "print(\"Atendiendo a:\", atendido.nombre if atendido else None)\n"
   ]
  }
 ],
 "metadata": {
  "kernelspec": {
   "display_name": "Python 3",
   "language": "python",
   "name": "python3"
  }
 },
 "nbformat": 4,
 "nbformat_minor": 5
}
